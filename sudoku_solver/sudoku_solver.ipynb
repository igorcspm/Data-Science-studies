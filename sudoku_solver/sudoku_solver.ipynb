{
 "cells": [
  {
   "cell_type": "markdown",
   "metadata": {},
   "source": [
    "# **Resolvedor de Sudoku**\n"
   ]
  },
  {
   "cell_type": "markdown",
   "metadata": {},
   "source": [
    "Nesse case irei utilizar o OpenCV e Keras para montar um resolvedor automático de Sudoku. Primeiro irei criar uma rede neural que reconhece dígitos e treiná-la utilizando o dataset de dígitos, Mnist do Keras. Então, irei utilizar o openCV para extrair os dígitos de uma imagem de sudoku e passá-los para a rede neural treinada. Por fim, a biblioteca 'sudoku' irá formatar os números num tabuleiro, e em seguida resolvê-lo."
   ]
  },
  {
   "cell_type": "markdown",
   "metadata": {},
   "source": [
    "**Bibliotecas utilizadas**"
   ]
  },
  {
   "cell_type": "code",
   "execution_count": 1,
   "metadata": {},
   "outputs": [],
   "source": [
    "import cv2\n",
    "import numpy as np\n",
    "import matplotlib.pyplot as plt\n",
    "\n",
    "import imutils\n",
    "from sudoku import Sudoku\n",
    "from skimage.segmentation import clear_border\n",
    "from imutils.perspective import four_point_transform\n",
    "from keras.preprocessing.image import img_to_array\n",
    "from keras.models import load_model"
   ]
  },
  {
   "cell_type": "markdown",
   "metadata": {},
   "source": [
    "**Funções utilizadas**"
   ]
  },
  {
   "cell_type": "code",
   "execution_count": 2,
   "metadata": {},
   "outputs": [],
   "source": [
    "def exibe_image(img, gray=True):\n",
    "    plt.figure(figsize=(10, 20))\n",
    "    if gray:\n",
    "        plt.imshow(img, cmap = 'gray')\n",
    "    else:\n",
    "        plt.imshow(img)\n",
    "    \n",
    "    plt.axis('off')\n",
    "    plt.show()"
   ]
  },
  {
   "cell_type": "code",
   "execution_count": 3,
   "metadata": {},
   "outputs": [],
   "source": [
    "def find_puzzle(image_path):\n",
    "    # leitura e transformação da imagem\n",
    "    img = cv2.imread(image_path)\n",
    "    img_cinza = cv2.cvtColor(img, cv2.COLOR_BGR2GRAY)\n",
    "    blur = cv2.GaussianBlur(img_cinza, (7, 7), 3)\n",
    "\n",
    "    # threshold\n",
    "    img_thr = cv2.adaptiveThreshold(blur, 255, cv2.ADAPTIVE_THRESH_GAUSSIAN_C, cv2.THRESH_BINARY, 11, 2) \n",
    "    img_inv = cv2.bitwise_not(img_thr)\n",
    "\n",
    "    # encontrando os contornos do puzzle\n",
    "    contours = cv2.findContours(img_inv.copy(), cv2.RETR_EXTERNAL, cv2.CHAIN_APPROX_SIMPLE)\n",
    "    contours = imutils.grab_contours(contours)\n",
    "    contours = sorted(contours, key=cv2.contourArea, reverse=True)\n",
    "\n",
    "    puzzle_contours = None\n",
    "    for contour in contours:\n",
    "        perimetro = cv2.arcLength(contour, True)\n",
    "        approx = cv2.approxPolyDP(contour, 0.02 * perimetro, True)\n",
    "\n",
    "        if len(approx) == 4:\n",
    "            puzzle_contours = approx\n",
    "            break\n",
    "    \n",
    "    # cisalhamento\n",
    "    warped = four_point_transform(img_cinza, puzzle_contours.reshape(4, 2))\n",
    "    \n",
    "    return warped"
   ]
  },
  {
   "cell_type": "code",
   "execution_count": 4,
   "metadata": {},
   "outputs": [],
   "source": [
    "def resize_image(image):\n",
    "    img_resized = cv2.resize(image, (28, 28))\n",
    "    img_resized = np.array(img_resized).astype('float') / 255\n",
    "    img_resized = img_to_array(img_resized)\n",
    "    img_resized = np.expand_dims(img_resized, axis=0)\n",
    "    \n",
    "    return img_resized"
   ]
  },
  {
   "cell_type": "code",
   "execution_count": 5,
   "metadata": {},
   "outputs": [],
   "source": [
    "def extract_digit(image, model):\n",
    "    # threshold\n",
    "    thresh = cv2.threshold(image, 0, 255, cv2.THRESH_OTSU + cv2.THRESH_BINARY_INV)[1]\n",
    "    thresh = clear_border(thresh)\n",
    "    (h, w) = thresh.shape\n",
    "\n",
    "    # econtrando os contornos do dígito\n",
    "    contour = cv2.findContours(thresh.copy(), cv2.RETR_EXTERNAL, cv2.CHAIN_APPROX_SIMPLE)\n",
    "    contour = imutils.grab_contours(contour)\n",
    "\n",
    "    if len(contour) == 0:\n",
    "        return 0\n",
    "        \n",
    "    else:\n",
    "        c = max(contour, key = cv2.contourArea)\n",
    "        \n",
    "        # centralizando o dígito na imagem\n",
    "        x, y, larg, alt = cv2.boundingRect(c)\n",
    "        esquerda = ((w - larg) // 2) - x\n",
    "        cima = ((h - alt) // 2) - y\n",
    "        deslocamento = np.float32([[1, 0, esquerda], [0, 1, cima]])\n",
    "        thresh = cv2.warpAffine(thresh, deslocamento, (w, h))\n",
    "\n",
    "        # reencontrando os contornos na imagem centralizada\n",
    "        contour = cv2.findContours(thresh.copy(), cv2.RETR_EXTERNAL, cv2.CHAIN_APPROX_SIMPLE)\n",
    "        contour = imutils.grab_contours(contour)\n",
    "        \n",
    "        c = max(contour, key = cv2.contourArea)\n",
    "\n",
    "        mask = np.zeros(thresh.shape, dtype = 'uint8')\n",
    "    \n",
    "        cv2.drawContours(mask, [c], -1, 255, -1)\n",
    "    \n",
    "        percent_filled = cv2.countNonZero(mask) / float(w * h)\n",
    "\n",
    "        if percent_filled < 0.03:\n",
    "            return 0\n",
    "\n",
    "        thresh_copy = thresh.copy() \n",
    "        resized_image = resize_image(thresh_copy)\n",
    "\n",
    "        # predição do dígito\n",
    "        pred = model.predict(np.array(resized_image))\n",
    "        pred_label = np.argmax(pred, axis=1)\n",
    "        digit = pred_label[0] \n",
    "\n",
    "    return digit"
   ]
  },
  {
   "cell_type": "code",
   "execution_count": 6,
   "metadata": {},
   "outputs": [],
   "source": [
    "def create_sudoku_board(image_warped, model):\n",
    "    # criando a matriz do sudoku\n",
    "    step_x = image_warped.shape[1] // 9\n",
    "    step_y = image_warped.shape[0] // 9\n",
    "\n",
    "    sudoku_matrix = []\n",
    "    for y in range(9):\n",
    "        row = []\n",
    "        for x in range(9):\n",
    "            start_y = y * step_y\n",
    "            end_y = (y + 1) * step_y\n",
    "\n",
    "            start_x = x * step_x\n",
    "            end_x = (x + 1) * step_x\n",
    "\n",
    "            number = extract_digit(image_warped[start_y:end_y, start_x:end_x], model)\n",
    "            \n",
    "            row.append(number)\n",
    "            \n",
    "        sudoku_matrix.append(row)\n",
    "\n",
    "    # criando o tabuleiro do sudoku\n",
    "    sudoku_board = Sudoku(3, 3, board=sudoku_matrix)\n",
    "    \n",
    "    return sudoku_board"
   ]
  },
  {
   "cell_type": "code",
   "execution_count": 8,
   "metadata": {},
   "outputs": [],
   "source": [
    "model_sudoku = load_model('sudoku_model.h5')"
   ]
  },
  {
   "cell_type": "markdown",
   "metadata": {},
   "source": [
    "**Teste em imagens de sudoku**"
   ]
  },
  {
   "cell_type": "markdown",
   "metadata": {},
   "source": [
    "Imagem 1"
   ]
  },
  {
   "cell_type": "markdown",
   "metadata": {},
   "source": [
    "<img src=\"./imagens_sudokus/sudoku.png\" alt=\"Imagem 1\" style=\"height: 408px; width: 360px\"/>"
   ]
  },
  {
   "cell_type": "code",
   "execution_count": 9,
   "metadata": {},
   "outputs": [
    {
     "name": "stdout",
     "output_type": "stream",
     "text": [
      "Sudoku digital\n",
      "+-------+-------+-------+\n",
      "| 8     |   1   |     9 |\n",
      "|   5   | 8   7 |   1   |\n",
      "|     4 |   9   | 7     |\n",
      "+-------+-------+-------+\n",
      "|   6   | 7   1 |   2   |\n",
      "| 5   8 |   6   | 1   7 |\n",
      "|   1   | 5   2 |   9   |\n",
      "+-------+-------+-------+\n",
      "|     7 |   4   | 6     |\n",
      "|   8   | 3   9 |   4   |\n",
      "| 3     |   5   |     8 |\n",
      "+-------+-------+-------+\n",
      "\n",
      "Solução\n",
      "+-------+-------+-------+\n",
      "| 8 7 2 | 4 1 3 | 5 6 9 |\n",
      "| 9 5 6 | 8 2 7 | 3 1 4 |\n",
      "| 1 3 4 | 6 9 5 | 7 8 2 |\n",
      "+-------+-------+-------+\n",
      "| 4 6 9 | 7 3 1 | 8 2 5 |\n",
      "| 5 2 8 | 9 6 4 | 1 3 7 |\n",
      "| 7 1 3 | 5 8 2 | 4 9 6 |\n",
      "+-------+-------+-------+\n",
      "| 2 9 7 | 1 4 8 | 6 5 3 |\n",
      "| 6 8 5 | 3 7 9 | 2 4 1 |\n",
      "| 3 4 1 | 2 5 6 | 9 7 8 |\n",
      "+-------+-------+-------+\n",
      "\n"
     ]
    }
   ],
   "source": [
    "puzzle_warped = find_puzzle('./imagens_sudokus/sudoku.png')\n",
    "board = create_sudoku_board(puzzle_warped, model_sudoku)\n",
    "\n",
    "print('Sudoku digital')\n",
    "board.show()\n",
    "\n",
    "solution = board.solve()\n",
    "\n",
    "print('Solução')\n",
    "solution.show()"
   ]
  },
  {
   "cell_type": "markdown",
   "metadata": {},
   "source": [
    "Imagem 2"
   ]
  },
  {
   "cell_type": "markdown",
   "metadata": {},
   "source": [
    "<img src=\"./imagens_sudokus/sudoku_ex.png\" alt=\"Imagem 2\" style=\"height: 280px; width: 390px\"/>"
   ]
  },
  {
   "cell_type": "code",
   "execution_count": 10,
   "metadata": {},
   "outputs": [
    {
     "name": "stdout",
     "output_type": "stream",
     "text": [
      "Sudoku digital\n",
      "+-------+-------+-------+\n",
      "| 5 3   |   7   |       |\n",
      "| 6     | 1 9 5 |       |\n",
      "|   9 8 |       |   6   |\n",
      "+-------+-------+-------+\n",
      "| 8     |   6   |     3 |\n",
      "| 4     | 8   3 |     1 |\n",
      "| 7     |   2   |     6 |\n",
      "+-------+-------+-------+\n",
      "|   6   |       | 2 8   |\n",
      "|       | 4 1 9 |     5 |\n",
      "|       |   8   |   7 9 |\n",
      "+-------+-------+-------+\n",
      "\n",
      "Solução\n",
      "+-------+-------+-------+\n",
      "| 5 3 4 | 6 7 8 | 9 1 2 |\n",
      "| 6 7 2 | 1 9 5 | 3 4 8 |\n",
      "| 1 9 8 | 3 4 2 | 5 6 7 |\n",
      "+-------+-------+-------+\n",
      "| 8 5 9 | 7 6 1 | 4 2 3 |\n",
      "| 4 2 6 | 8 5 3 | 7 9 1 |\n",
      "| 7 1 3 | 9 2 4 | 8 5 6 |\n",
      "+-------+-------+-------+\n",
      "| 9 6 1 | 5 3 7 | 2 8 4 |\n",
      "| 2 8 7 | 4 1 9 | 6 3 5 |\n",
      "| 3 4 5 | 2 8 6 | 1 7 9 |\n",
      "+-------+-------+-------+\n",
      "\n"
     ]
    }
   ],
   "source": [
    "puzzle_warped = find_puzzle('./imagens_sudokus/sudoku_ex.png')\n",
    "board = create_sudoku_board(puzzle_warped, model_sudoku)\n",
    "\n",
    "print('Sudoku digital')\n",
    "board.show()\n",
    "\n",
    "solution = board.solve()\n",
    "\n",
    "print('Solução')\n",
    "solution.show()"
   ]
  },
  {
   "cell_type": "markdown",
   "metadata": {},
   "source": [
    "Imagem 3"
   ]
  },
  {
   "cell_type": "markdown",
   "metadata": {},
   "source": [
    "<img src=\"./imagens_sudokus/sudoku_ex11.jpg\" alt=\"Imagem 2\" style=\"height: 380px; width: 504px\"/>"
   ]
  },
  {
   "cell_type": "code",
   "execution_count": 11,
   "metadata": {},
   "outputs": [
    {
     "name": "stdout",
     "output_type": "stream",
     "text": [
      "Sudoku digital\n",
      "+-------+-------+-------+\n",
      "|       | 2 3   |       |\n",
      "|   6 7 |       | 9 2   |\n",
      "|   9   |     7 |   3   |\n",
      "+-------+-------+-------+\n",
      "|     4 |   7   |     8 |\n",
      "| 6     | 4   2 |     1 |\n",
      "| 7     |   1   | 6     |\n",
      "+-------+-------+-------+\n",
      "|   7   | 6     |   1   |\n",
      "|   1 8 |       | 3 7   |\n",
      "|       |   5 1 |       |\n",
      "+-------+-------+-------+\n",
      "\n",
      "Solução\n",
      "+-------+-------+-------+\n",
      "| 8 4 5 | 2 3 9 | 1 6 7 |\n",
      "| 3 6 7 | 1 4 8 | 9 2 5 |\n",
      "| 2 9 1 | 5 6 7 | 8 3 4 |\n",
      "+-------+-------+-------+\n",
      "| 1 5 4 | 3 7 6 | 2 9 8 |\n",
      "| 6 8 3 | 4 9 2 | 7 5 1 |\n",
      "| 7 2 9 | 8 1 5 | 6 4 3 |\n",
      "+-------+-------+-------+\n",
      "| 4 7 2 | 6 8 3 | 5 1 9 |\n",
      "| 5 1 8 | 9 2 4 | 3 7 6 |\n",
      "| 9 3 6 | 7 5 1 | 4 8 2 |\n",
      "+-------+-------+-------+\n",
      "\n"
     ]
    }
   ],
   "source": [
    "puzzle_warped = find_puzzle('./imagens_sudokus/sudoku_ex11.jpg')\n",
    "board = create_sudoku_board(puzzle_warped, model_sudoku)\n",
    "\n",
    "print('Sudoku digital')\n",
    "board.show()\n",
    "\n",
    "solution = board.solve()\n",
    "\n",
    "print('Solução')\n",
    "solution.show()"
   ]
  },
  {
   "cell_type": "markdown",
   "metadata": {},
   "source": [
    "Imagem 4"
   ]
  },
  {
   "cell_type": "markdown",
   "metadata": {},
   "source": [
    "<img src=\"./imagens_sudokus/sudoku_ex7.png\" alt=\"Imagem 2\" style=\"height: 352px; width: 352px\"/>"
   ]
  },
  {
   "cell_type": "code",
   "execution_count": 12,
   "metadata": {},
   "outputs": [
    {
     "name": "stdout",
     "output_type": "stream",
     "text": [
      "Sudoku digital\n",
      "+-------+-------+-------+\n",
      "|       |       |       |\n",
      "|   4 3 |       | 8 5   |\n",
      "| 5     | 2   6 |     3 |\n",
      "+-------+-------+-------+\n",
      "| 6     |   1   |     9 |\n",
      "|   7   |       |   4   |\n",
      "|     8 |       | 7     |\n",
      "+-------+-------+-------+\n",
      "|       | 9   1 |       |\n",
      "|       |   2   |       |\n",
      "|       |       |       |\n",
      "+-------+-------+-------+\n",
      "\n",
      "Solução\n",
      "+-------+-------+-------+\n",
      "| 1 6 9 | 3 5 8 | 2 7 4 |\n",
      "| 2 4 3 | 1 7 9 | 8 5 6 |\n",
      "| 5 8 7 | 2 4 6 | 1 9 3 |\n",
      "+-------+-------+-------+\n",
      "| 6 2 4 | 5 1 7 | 3 8 9 |\n",
      "| 3 7 1 | 8 9 2 | 6 4 5 |\n",
      "| 9 5 8 | 4 6 3 | 7 1 2 |\n",
      "+-------+-------+-------+\n",
      "| 4 3 2 | 9 8 1 | 5 6 7 |\n",
      "| 7 1 5 | 6 2 4 | 9 3 8 |\n",
      "| 8 9 6 | 7 3 5 | 4 2 1 |\n",
      "+-------+-------+-------+\n",
      "\n"
     ]
    }
   ],
   "source": [
    "puzzle_warped = find_puzzle('./imagens_sudokus/sudoku_ex7.png')\n",
    "board = create_sudoku_board(puzzle_warped, model_sudoku)\n",
    "\n",
    "print('Sudoku digital')\n",
    "board.show()\n",
    "\n",
    "solution = board.solve()\n",
    "\n",
    "print('Solução')\n",
    "solution.show()"
   ]
  },
  {
   "cell_type": "markdown",
   "metadata": {},
   "source": [
    "Imagem 5"
   ]
  },
  {
   "cell_type": "markdown",
   "metadata": {},
   "source": [
    "<img src=\"./imagens_sudokus/sudoku_ex5.jpg\" alt=\"Imagem 5\" style=\"height: 320px; width: 276px\"/>"
   ]
  },
  {
   "cell_type": "code",
   "execution_count": 13,
   "metadata": {},
   "outputs": [
    {
     "name": "stdout",
     "output_type": "stream",
     "text": [
      "Sudoku digital\n",
      "+-------+-------+-------+\n",
      "| 3     |   9   |   5   |\n",
      "|     9 |   2   | 8     |\n",
      "|   6   | 4     | 1     |\n",
      "+-------+-------+-------+\n",
      "|     3 |     6 |   8 9 |\n",
      "|       | 2 8 9 |       |\n",
      "| 6 9   | 3     | 5     |\n",
      "+-------+-------+-------+\n",
      "|     5 |     3 |   1   |\n",
      "|     1 |   7   | 2     |\n",
      "|   4   |   5   |     3 |\n",
      "+-------+-------+-------+\n",
      "\n",
      "Solução\n",
      "+-------+-------+-------+\n",
      "| 3 8 4 | 7 9 1 | 6 5 2 |\n",
      "| 7 1 9 | 6 2 5 | 8 3 4 |\n",
      "| 5 6 2 | 4 3 8 | 1 9 7 |\n",
      "+-------+-------+-------+\n",
      "| 4 2 3 | 5 1 6 | 7 8 9 |\n",
      "| 1 5 7 | 2 8 9 | 3 4 6 |\n",
      "| 6 9 8 | 3 4 7 | 5 2 1 |\n",
      "+-------+-------+-------+\n",
      "| 2 7 5 | 9 6 3 | 4 1 8 |\n",
      "| 9 3 1 | 8 7 4 | 2 6 5 |\n",
      "| 8 4 6 | 1 5 2 | 9 7 3 |\n",
      "+-------+-------+-------+\n",
      "\n"
     ]
    }
   ],
   "source": [
    "puzzle_warped = find_puzzle('./imagens_sudokus/sudoku_ex5.jpg')\n",
    "board = create_sudoku_board(puzzle_warped, model_sudoku)\n",
    "\n",
    "print('Sudoku digital')\n",
    "board.show()\n",
    "\n",
    "solution = board.solve()\n",
    "\n",
    "print('Solução')\n",
    "solution.show()"
   ]
  },
  {
   "cell_type": "markdown",
   "metadata": {},
   "source": [
    "**Falha no reconhecimento do sudoku**"
   ]
  },
  {
   "cell_type": "markdown",
   "metadata": {},
   "source": [
    "No exemplo abaixo, o algoritmo de OCR não foi capaz de encontrar todos os dígitos da imagem. Após um pouco de investigação, descobri que um pequeno ajuste em como a foto foi tirada resolveria: a parte de cima da folha possui algumas dobras, o que atrapalha o cisalhamento."
   ]
  },
  {
   "cell_type": "markdown",
   "metadata": {},
   "source": [
    "<img src=\"./imagens_sudokus/sudoku_ex8.jpg\" alt=\"Imagem 2\" style=\"height: 210px; width: 210px\"/>"
   ]
  },
  {
   "cell_type": "code",
   "execution_count": 14,
   "metadata": {},
   "outputs": [
    {
     "name": "stdout",
     "output_type": "stream",
     "text": [
      "Sudoku digital\n",
      "+-------+-------+-------+\n",
      "|       |       |       |\n",
      "| 7   6 |       |     9 |\n",
      "|       |       |       |\n",
      "+-------+-------+-------+\n",
      "|   7   |       |       |\n",
      "| 8     |       |       |\n",
      "| 4     |       |       |\n",
      "+-------+-------+-------+\n",
      "|       |       |       |\n",
      "|       |       |       |\n",
      "|       |       |       |\n",
      "+-------+-------+-------+\n",
      "\n"
     ]
    }
   ],
   "source": [
    "puzzle_warped = find_puzzle('./imagens_sudokus/sudoku_ex8.jpg')\n",
    "board = create_sudoku_board(puzzle_warped, model_sudoku)\n",
    "\n",
    "print('Sudoku digital')\n",
    "board.show()"
   ]
  },
  {
   "cell_type": "markdown",
   "metadata": {},
   "source": [
    "# **Conclusão**"
   ]
  },
  {
   "cell_type": "markdown",
   "metadata": {},
   "source": [
    "O meu objetivo com esse projeto era criar um algoritmo generalista que reconhecesse o tabuleiro de sudoku numa imagem. Para isso, utilizei a \"Imagem 1\" como referência para criação do resolvedor. Dessa forma, a depender da qualidade da imagem, o algoritmo pode falhar, como foi visto anteriormente. \n",
    "\n",
    "Assim, concluo que o algoritmo serviu para uma boa quantidade de imagens, cumprindo o seu caráter generalista."
   ]
  }
 ],
 "metadata": {
  "kernelspec": {
   "display_name": "Python 3.9.13 64-bit (windows store)",
   "language": "python",
   "name": "python3"
  },
  "language_info": {
   "codemirror_mode": {
    "name": "ipython",
    "version": 3
   },
   "file_extension": ".py",
   "mimetype": "text/x-python",
   "name": "python",
   "nbconvert_exporter": "python",
   "pygments_lexer": "ipython3",
   "version": "3.9.13"
  },
  "orig_nbformat": 4,
  "vscode": {
   "interpreter": {
    "hash": "4d9942f85d0d17edb10ba4616f56d8c45bd3bfa8cc7e0a9efffc14a698ef6bec"
   }
  }
 },
 "nbformat": 4,
 "nbformat_minor": 2
}
