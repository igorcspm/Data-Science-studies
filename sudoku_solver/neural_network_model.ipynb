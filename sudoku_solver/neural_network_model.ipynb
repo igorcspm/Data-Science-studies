{
 "cells": [
  {
   "cell_type": "markdown",
   "metadata": {},
   "source": [
    "**Criando a Rede Neural**"
   ]
  },
  {
   "cell_type": "code",
   "execution_count": 2,
   "metadata": {},
   "outputs": [],
   "source": [
    "import numpy as np\n",
    "\n",
    "from keras.datasets import mnist\n",
    "from keras.models import Sequential\n",
    "from keras.layers import Conv2D\n",
    "from keras.layers import MaxPooling2D\n",
    "from keras.layers import Flatten\n",
    "from keras.layers import Dense\n",
    "from keras.layers import Dropout"
   ]
  },
  {
   "cell_type": "code",
   "execution_count": 3,
   "metadata": {},
   "outputs": [
    {
     "name": "stdout",
     "output_type": "stream",
     "text": [
      "Model: \"sequential\"\n",
      "_________________________________________________________________\n",
      " Layer (type)                Output Shape              Param #   \n",
      "=================================================================\n",
      " conv2d (Conv2D)             (None, 28, 28, 32)        832       \n",
      "                                                                 \n",
      " max_pooling2d (MaxPooling2D  (None, 14, 14, 32)       0         \n",
      " )                                                               \n",
      "                                                                 \n",
      " conv2d_1 (Conv2D)           (None, 14, 14, 32)        9248      \n",
      "                                                                 \n",
      " max_pooling2d_1 (MaxPooling  (None, 7, 7, 32)         0         \n",
      " 2D)                                                             \n",
      "                                                                 \n",
      " flatten (Flatten)           (None, 1568)              0         \n",
      "                                                                 \n",
      " dense (Dense)               (None, 64)                100416    \n",
      "                                                                 \n",
      " dropout (Dropout)           (None, 64)                0         \n",
      "                                                                 \n",
      " dense_1 (Dense)             (None, 64)                4160      \n",
      "                                                                 \n",
      " dropout_1 (Dropout)         (None, 64)                0         \n",
      "                                                                 \n",
      " dense_2 (Dense)             (None, 10)                650       \n",
      "                                                                 \n",
      "=================================================================\n",
      "Total params: 115,306\n",
      "Trainable params: 115,306\n",
      "Non-trainable params: 0\n",
      "_________________________________________________________________\n"
     ]
    }
   ],
   "source": [
    "def build(width, height, depth, classes):\n",
    "    model = Sequential()\n",
    "    model.add(Conv2D(32, (5, 5), input_shape = (width, height, depth), activation='relu', padding='same'))\n",
    "    model.add(MaxPooling2D(2, 2))\n",
    "    model.add(Conv2D(32, (3, 3), activation='relu', padding='same'))\n",
    "    model.add(MaxPooling2D(2, 2))\n",
    "\n",
    "    model.add(Flatten())\n",
    "\n",
    "    model.add(Dense(64, activation='relu'))\n",
    "    model.add(Dropout(0.5))\n",
    "\n",
    "    model.add(Dense(64, activation = 'relu'))\n",
    "    model.add(Dropout(0.5))\n",
    "\n",
    "    model.add(Dense(classes, activation='softmax'))\n",
    "\n",
    "    return model\n",
    "\n",
    "build(28, 28, 1, 10).summary()"
   ]
  },
  {
   "cell_type": "markdown",
   "metadata": {},
   "source": [
    "**Treinando o modelo**"
   ]
  },
  {
   "cell_type": "code",
   "execution_count": 4,
   "metadata": {},
   "outputs": [],
   "source": [
    "(x_train, y_train), (x_test, y_test) = mnist.load_data()"
   ]
  },
  {
   "cell_type": "code",
   "execution_count": 5,
   "metadata": {},
   "outputs": [],
   "source": [
    "num_classes = 10\n",
    "input_shape = (28, 28, 1)\n",
    "\n",
    "x_train = x_train.astype(\"float32\") / 255\n",
    "x_test = x_test.astype(\"float32\") / 255\n",
    "\n",
    "x_train = np.expand_dims(x_train, -1)\n",
    "x_test = np.expand_dims(x_test, -1)"
   ]
  },
  {
   "cell_type": "code",
   "execution_count": 6,
   "metadata": {},
   "outputs": [],
   "source": [
    "model = build(28, 28, 1, 10)\n",
    "model.compile(optimizer='adam',\n",
    "              loss='sparse_categorical_crossentropy',\n",
    "              metrics=['accuracy'])"
   ]
  },
  {
   "cell_type": "code",
   "execution_count": 7,
   "metadata": {},
   "outputs": [
    {
     "name": "stdout",
     "output_type": "stream",
     "text": [
      "Epoch 1/10\n",
      "422/422 [==============================] - 34s 78ms/step - loss: 0.7109 - accuracy: 0.7624 - val_loss: 0.0830 - val_accuracy: 0.9772\n",
      "Epoch 2/10\n",
      "422/422 [==============================] - 33s 79ms/step - loss: 0.2564 - accuracy: 0.9250 - val_loss: 0.0594 - val_accuracy: 0.9832\n",
      "Epoch 3/10\n",
      "422/422 [==============================] - 33s 78ms/step - loss: 0.1848 - accuracy: 0.9469 - val_loss: 0.0486 - val_accuracy: 0.9870\n",
      "Epoch 4/10\n",
      "422/422 [==============================] - 33s 79ms/step - loss: 0.1504 - accuracy: 0.9578 - val_loss: 0.0414 - val_accuracy: 0.9890\n",
      "Epoch 5/10\n",
      "422/422 [==============================] - 33s 78ms/step - loss: 0.1313 - accuracy: 0.9631 - val_loss: 0.0394 - val_accuracy: 0.9908\n",
      "Epoch 6/10\n",
      "422/422 [==============================] - 33s 78ms/step - loss: 0.1193 - accuracy: 0.9669 - val_loss: 0.0441 - val_accuracy: 0.9897\n",
      "Epoch 7/10\n",
      "422/422 [==============================] - 33s 78ms/step - loss: 0.1063 - accuracy: 0.9698 - val_loss: 0.0384 - val_accuracy: 0.9912\n",
      "Epoch 8/10\n",
      "422/422 [==============================] - 34s 79ms/step - loss: 0.0964 - accuracy: 0.9725 - val_loss: 0.0423 - val_accuracy: 0.9902\n",
      "Epoch 9/10\n",
      "422/422 [==============================] - 33s 77ms/step - loss: 0.0878 - accuracy: 0.9763 - val_loss: 0.0408 - val_accuracy: 0.9902\n",
      "Epoch 10/10\n",
      "422/422 [==============================] - 34s 82ms/step - loss: 0.0837 - accuracy: 0.9765 - val_loss: 0.0401 - val_accuracy: 0.9903\n"
     ]
    }
   ],
   "source": [
    "batch_size = 128\n",
    "epochs = 10\n",
    "\n",
    "history = model.fit(x_train, y_train, batch_size=batch_size, epochs=epochs, validation_split=0.1)"
   ]
  },
  {
   "cell_type": "code",
   "execution_count": 8,
   "metadata": {},
   "outputs": [],
   "source": [
    "model.save('./sudoku_model.h5')"
   ]
  }
 ],
 "metadata": {
  "kernelspec": {
   "display_name": "Python 3.9.13 64-bit (windows store)",
   "language": "python",
   "name": "python3"
  },
  "language_info": {
   "codemirror_mode": {
    "name": "ipython",
    "version": 3
   },
   "file_extension": ".py",
   "mimetype": "text/x-python",
   "name": "python",
   "nbconvert_exporter": "python",
   "pygments_lexer": "ipython3",
   "version": "3.9.13"
  },
  "orig_nbformat": 4,
  "vscode": {
   "interpreter": {
    "hash": "4d9942f85d0d17edb10ba4616f56d8c45bd3bfa8cc7e0a9efffc14a698ef6bec"
   }
  }
 },
 "nbformat": 4,
 "nbformat_minor": 2
}
